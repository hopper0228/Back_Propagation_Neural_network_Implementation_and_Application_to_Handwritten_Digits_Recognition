{
 "cells": [
  {
   "cell_type": "code",
   "execution_count": 1,
   "id": "e24b0c72",
   "metadata": {},
   "outputs": [],
   "source": [
    "import numpy as np\n",
    "from matplotlib import pyplot as plt"
   ]
  },
  {
   "cell_type": "code",
   "execution_count": 5,
   "id": "a22ea3fb",
   "metadata": {},
   "outputs": [
    {
     "name": "stdout",
     "output_type": "stream",
     "text": [
      "found 20000 files.\n",
      "folder: ['2', '4', '5', '6', '7']\n"
     ]
    }
   ],
   "source": [
    "#\"\"\"讀資料夾\n",
    "import os\n",
    "from os import listdir\n",
    "from os.path import isfile, join\n",
    "\n",
    "import cv2\n",
    "\n",
    "label_folder = []\n",
    "total_size = 0\n",
    "data_path = r\"C:\\Users\\user\\Desktop\\master\\NN\\homeone\\mnist_testData\\Training data\"\n",
    "output = \"\"\n",
    "\n",
    "for root, dirts, files in os.walk(data_path):\n",
    "    for dirt in dirts:\n",
    "        label_folder.append(dirt)\n",
    "    total_size += len(files)\n",
    "    \n",
    "base_X_test = []\n",
    "base_Y_test = []\n",
    "\n",
    "test_path = r\"C:\\Users\\user\\Desktop\\master\\NN\\homeone\\mnist_testData\\Testing data1\"\n",
    "FileName = [f for f in listdir(test_path)if isfile(join(test_path,f))]\n",
    "lenlen = len(FileName)\n",
    "\n",
    "for j in range(len(FileName)):\n",
    "    path = test_path+\"\\\\\"+FileName[j]\n",
    "    test_img = cv2.imread(path,cv2.IMREAD_GRAYSCALE)\n",
    "    base_X_test.append(test_img)\n",
    "    \n",
    "    file = FileName[j].split('.')[0]\n",
    "    base_Y_test.append(file)\n",
    "    output = output+file+\"\\n\"\n",
    "\n",
    "print(\"found\", total_size,\"files.\")\n",
    "print(\"folder:\",label_folder)\n",
    "#print(\"found\", np.array(base_X_test).shape,\"test files.\")\n",
    "#print(base_Y_test)\n",
    "#\"\"\""
   ]
  },
  {
   "cell_type": "code",
   "execution_count": 125,
   "id": "789281e6",
   "metadata": {},
   "outputs": [],
   "source": [
    "#base_X_test"
   ]
  },
  {
   "cell_type": "code",
   "execution_count": null,
   "id": "cf06ddfe",
   "metadata": {},
   "outputs": [],
   "source": [
    "#\"\"\"讀檔\n",
    "import numpy as np\n",
    "\n",
    "base_X_train = []\n",
    "base_Y_train = []\n",
    "\n",
    "for i in range(len(label_folder)):\n",
    "    labelPath = data_path+\"\\\\\"+label_folder[i]\n",
    "    \n",
    "    FileName = [f for f in listdir(labelPath)if isfile(join(labelPath,f))]\n",
    "    \n",
    "    for j in range(len(FileName)):\n",
    "        path = labelPath+\"\\\\\"+FileName[j]\n",
    "        \n",
    "        img = cv2.imread(path,cv2.IMREAD_GRAYSCALE)\n",
    "        \n",
    "        base_X_train.append(img)\n",
    "        base_Y_train.append(int (label_folder[i]))\n",
    "\n",
    "base_X_train = np.reshape(base_X_train, (20000,784))\n",
    "base_Y_train = np.reshape(base_Y_train, 20000)\n",
    "base_X_test = np.reshape(base_X_test, (5000,784))\n",
    "\n",
    "m , n = base_X_train.shape\n",
    "\n",
    "print(np.array(base_X_train).shape)\n",
    "print(np.array(base_Y_train).shape)\n",
    "#print(base_X_test)\n",
    "#\"\"\""
   ]
  },
  {
   "cell_type": "code",
   "execution_count": 4,
   "id": "237573f8",
   "metadata": {},
   "outputs": [],
   "source": [
    "base_X_train = base_X_train.T\n",
    "base_X_test = base_X_test.T\n",
    "\n",
    "base_X_train = base_X_train / 255\n",
    "base_X_test = base_X_test / 255\n",
    "\n",
    "#m , n = base_X_train.shape"
   ]
  },
  {
   "cell_type": "code",
   "execution_count": 107,
   "id": "d84ccfd4",
   "metadata": {},
   "outputs": [],
   "source": [
    "#print(np.array(base_X_test))"
   ]
  },
  {
   "cell_type": "code",
   "execution_count": 5,
   "id": "37c86e13",
   "metadata": {},
   "outputs": [],
   "source": [
    "def init_params():\n",
    "    W1 = np.random.rand(8, 784) - 0.5\n",
    "    b1 = np.random.rand(8, 1) - 0.5\n",
    "    W2 = np.random.rand(8, 8) - 0.5\n",
    "    b2 = np.random.rand(8, 1) - 0.5\n",
    "    return W1, b1, W2, b2\n",
    "\n",
    "def ReLU(Z):\n",
    "    return np.maximum(Z, 0)\n",
    "\n",
    "def softmax(Z):\n",
    "    A = np.exp(Z) / sum(np.exp(Z))\n",
    "    return A\n",
    "    \n",
    "def forward_prop(W1, b1, W2, b2, X):\n",
    "    Z1 = W1.dot(X) + b1\n",
    "    A1 = ReLU(Z1)\n",
    "    Z2 = W2.dot(A1) + b2\n",
    "    A2 = softmax(Z2)\n",
    "    return Z1, A1, Z2, A2\n",
    "\n",
    "def ReLU_deriv(Z):\n",
    "    return Z > 0\n",
    "\n",
    "def one_hot(Y):\n",
    "    one_hot_Y = np.zeros((Y.size, Y.max() + 1))\n",
    "    one_hot_Y[np.arange(Y.size), Y] = 1\n",
    "    one_hot_Y = one_hot_Y.T\n",
    "    return one_hot_Y\n",
    "\n",
    "def backward_prop(Z1, A1, Z2, A2, W1, W2, X, Y):\n",
    "    one_hot_Y = one_hot(Y)\n",
    "    dZ2 = A2 - one_hot_Y\n",
    "    dW2 = 1 / m * dZ2.dot(A1.T)\n",
    "    db2 = 1 / m * np.sum(dZ2)\n",
    "    dZ1 = W2.T.dot(dZ2) * ReLU_deriv(Z1)\n",
    "    dW1 = 1 / m * dZ1.dot(X.T)\n",
    "    db1 = 1 / m * np.sum(dZ1)\n",
    "    return dW1, db1, dW2, db2\n",
    "\n",
    "def update_params(W1, b1, W2, b2, dW1, db1, dW2, db2, alpha):\n",
    "    W1 = W1 - alpha * dW1\n",
    "    b1 = b1 - alpha * db1    \n",
    "    W2 = W2 - alpha * dW2  \n",
    "    b2 = b2 - alpha * db2    \n",
    "    return W1, b1, W2, b2"
   ]
  },
  {
   "cell_type": "code",
   "execution_count": 14,
   "id": "65d47491",
   "metadata": {},
   "outputs": [],
   "source": [
    "def get_predictions(A2):\n",
    "    return np.argmax(A2, 0)\n",
    "\n",
    "def get_accuracy(predictions, Y):\n",
    "    print(predictions, Y)\n",
    "    final = np.sum(predictions == Y) / Y.size\n",
    "    return final\n",
    "\n",
    "def gradient_descent(X, Y, alpha, iterations):\n",
    "    W1, b1, W2, b2 = init_params()\n",
    "    for i in range(iterations):\n",
    "        Z1, A1, Z2, A2 = forward_prop(W1, b1, W2, b2, X)\n",
    "        dW1, db1, dW2, db2 = backward_prop(Z1, A1, Z2, A2, W1, W2, X, Y)\n",
    "        W1, b1, W2, b2 = update_params(W1, b1, W2, b2, dW1, db1, dW2, db2, alpha)\n",
    "        if i % 10 == 0:\n",
    "            print(\"Iteration: \", i)\n",
    "            predictions = get_predictions(A2)\n",
    "            arr = get_accuracy(predictions, Y)\n",
    "            print(arr)\n",
    "            it.append(i)            \n",
    "            acc.append(arr)\n",
    "    return W1, b1, W2, b2"
   ]
  },
  {
   "cell_type": "code",
   "execution_count": 15,
   "id": "574507dd",
   "metadata": {
    "scrolled": false
   },
   "outputs": [
    {
     "name": "stdout",
     "output_type": "stream",
     "text": [
      "Iteration:  0\n",
      "[4 5 2 ... 2 2 2] [2 2 2 ... 7 7 7]\n",
      "0.1449\n",
      "Iteration:  10\n",
      "[4 5 2 ... 5 7 7] [2 2 2 ... 7 7 7]\n",
      "0.5742\n",
      "Iteration:  20\n",
      "[2 2 2 ... 4 7 7] [2 2 2 ... 7 7 7]\n",
      "0.60395\n",
      "Iteration:  30\n",
      "[2 5 2 ... 5 7 7] [2 2 2 ... 7 7 7]\n",
      "0.80295\n",
      "Iteration:  40\n",
      "[2 5 2 ... 7 7 7] [2 2 2 ... 7 7 7]\n",
      "0.8421\n",
      "Iteration:  50\n",
      "[2 2 2 ... 7 7 7] [2 2 2 ... 7 7 7]\n",
      "0.87765\n",
      "Iteration:  60\n",
      "[2 2 2 ... 7 7 7] [2 2 2 ... 7 7 7]\n",
      "0.89275\n",
      "Iteration:  70\n",
      "[2 2 2 ... 7 7 7] [2 2 2 ... 7 7 7]\n",
      "0.90315\n",
      "Iteration:  80\n",
      "[2 2 2 ... 7 7 7] [2 2 2 ... 7 7 7]\n",
      "0.9109\n",
      "Iteration:  90\n",
      "[2 2 2 ... 7 7 7] [2 2 2 ... 7 7 7]\n",
      "0.9164\n",
      "Iteration:  100\n",
      "[2 2 2 ... 7 7 7] [2 2 2 ... 7 7 7]\n",
      "0.9207\n",
      "Iteration:  110\n",
      "[2 2 2 ... 7 7 7] [2 2 2 ... 7 7 7]\n",
      "0.924\n",
      "Iteration:  120\n",
      "[2 2 2 ... 7 7 7] [2 2 2 ... 7 7 7]\n",
      "0.9271\n",
      "Iteration:  130\n",
      "[2 2 2 ... 7 7 7] [2 2 2 ... 7 7 7]\n",
      "0.9291\n",
      "Iteration:  140\n",
      "[2 2 2 ... 7 7 7] [2 2 2 ... 7 7 7]\n",
      "0.9316\n",
      "Iteration:  150\n",
      "[2 2 2 ... 7 7 7] [2 2 2 ... 7 7 7]\n",
      "0.9329\n",
      "Iteration:  160\n",
      "[2 2 2 ... 7 7 7] [2 2 2 ... 7 7 7]\n",
      "0.93375\n",
      "Iteration:  170\n",
      "[2 2 2 ... 7 7 7] [2 2 2 ... 7 7 7]\n",
      "0.93475\n",
      "Iteration:  180\n",
      "[2 2 2 ... 7 7 7] [2 2 2 ... 7 7 7]\n",
      "0.93585\n",
      "Iteration:  190\n",
      "[2 2 2 ... 7 7 7] [2 2 2 ... 7 7 7]\n",
      "0.9368\n",
      "Iteration:  200\n",
      "[2 2 2 ... 7 7 7] [2 2 2 ... 7 7 7]\n",
      "0.938\n",
      "Iteration:  210\n",
      "[2 2 2 ... 7 7 7] [2 2 2 ... 7 7 7]\n",
      "0.93885\n",
      "Iteration:  220\n",
      "[2 2 2 ... 7 7 7] [2 2 2 ... 7 7 7]\n",
      "0.9393\n",
      "Iteration:  230\n",
      "[2 2 2 ... 7 7 7] [2 2 2 ... 7 7 7]\n",
      "0.94\n",
      "Iteration:  240\n",
      "[2 2 2 ... 7 7 7] [2 2 2 ... 7 7 7]\n",
      "0.9407\n",
      "Iteration:  250\n",
      "[2 2 2 ... 7 7 7] [2 2 2 ... 7 7 7]\n",
      "0.9414\n",
      "Iteration:  260\n",
      "[2 2 2 ... 7 7 7] [2 2 2 ... 7 7 7]\n",
      "0.942\n",
      "Iteration:  270\n",
      "[2 2 2 ... 7 7 7] [2 2 2 ... 7 7 7]\n",
      "0.9428\n",
      "Iteration:  280\n",
      "[2 2 2 ... 7 7 7] [2 2 2 ... 7 7 7]\n",
      "0.94355\n",
      "Iteration:  290\n",
      "[2 2 2 ... 7 7 7] [2 2 2 ... 7 7 7]\n",
      "0.94435\n",
      "Iteration:  300\n",
      "[2 2 2 ... 7 7 7] [2 2 2 ... 7 7 7]\n",
      "0.9448\n",
      "Iteration:  310\n",
      "[2 2 2 ... 7 7 7] [2 2 2 ... 7 7 7]\n",
      "0.94545\n",
      "Iteration:  320\n",
      "[2 2 2 ... 7 7 7] [2 2 2 ... 7 7 7]\n",
      "0.9462\n",
      "Iteration:  330\n",
      "[2 2 2 ... 7 7 7] [2 2 2 ... 7 7 7]\n",
      "0.9468\n",
      "Iteration:  340\n",
      "[2 2 2 ... 7 7 7] [2 2 2 ... 7 7 7]\n",
      "0.9473\n",
      "Iteration:  350\n",
      "[2 2 2 ... 7 7 7] [2 2 2 ... 7 7 7]\n",
      "0.94805\n",
      "Iteration:  360\n",
      "[2 2 2 ... 7 7 7] [2 2 2 ... 7 7 7]\n",
      "0.9485\n",
      "Iteration:  370\n",
      "[2 2 2 ... 7 7 7] [2 2 2 ... 7 7 7]\n",
      "0.9487\n",
      "Iteration:  380\n",
      "[2 2 2 ... 7 7 7] [2 2 2 ... 7 7 7]\n",
      "0.94905\n",
      "Iteration:  390\n",
      "[2 2 2 ... 7 7 7] [2 2 2 ... 7 7 7]\n",
      "0.94965\n",
      "Iteration:  400\n",
      "[2 2 2 ... 7 7 7] [2 2 2 ... 7 7 7]\n",
      "0.9499\n",
      "Iteration:  410\n",
      "[2 2 2 ... 7 7 7] [2 2 2 ... 7 7 7]\n",
      "0.95005\n",
      "Iteration:  420\n",
      "[2 2 2 ... 7 7 7] [2 2 2 ... 7 7 7]\n",
      "0.95045\n",
      "Iteration:  430\n",
      "[2 2 2 ... 7 7 7] [2 2 2 ... 7 7 7]\n",
      "0.9509\n",
      "Iteration:  440\n",
      "[2 2 2 ... 7 7 7] [2 2 2 ... 7 7 7]\n",
      "0.9511\n",
      "Iteration:  450\n",
      "[2 2 2 ... 7 7 7] [2 2 2 ... 7 7 7]\n",
      "0.9515\n",
      "Iteration:  460\n",
      "[2 2 2 ... 7 7 7] [2 2 2 ... 7 7 7]\n",
      "0.9519\n",
      "Iteration:  470\n",
      "[2 2 2 ... 7 7 7] [2 2 2 ... 7 7 7]\n",
      "0.95275\n",
      "Iteration:  480\n",
      "[2 2 2 ... 7 7 7] [2 2 2 ... 7 7 7]\n",
      "0.95315\n",
      "Iteration:  490\n",
      "[2 2 2 ... 7 7 7] [2 2 2 ... 7 7 7]\n",
      "0.9535\n"
     ]
    }
   ],
   "source": [
    "it = []\n",
    "acc = []\n",
    "W1, b1, W2, b2 = gradient_descent(base_X_train, base_Y_train, 0.3, 500)"
   ]
  },
  {
   "cell_type": "code",
   "execution_count": 8,
   "id": "4af8b072",
   "metadata": {},
   "outputs": [],
   "source": [
    "def make_predictions(X, W1, b1, W2, b2):\n",
    "    _, _, _, A2 = forward_prop(W1, b1, W2, b2, X)\n",
    "    predictions = get_predictions(A2)\n",
    "    return predictions\n",
    "\n",
    "def test_prediction(index, W1, b1, W2, b2):\n",
    "    current_image = base_X_train[:, index, None]\n",
    "    prediction = make_predictions(base_X_train[:, index, None], W1, b1, W2, b2)\n",
    "    \n",
    "    label = base_Y_train[index]\n",
    "    print(\"Prediction: \", prediction)\n",
    "    print(\"Label: \", label)\n",
    "       \n",
    "    current_image = current_image.reshape((28, 28)) * 255\n",
    "    plt.gray()\n",
    "    plt.imshow(current_image, interpolation='nearest')\n",
    "    plt.show()\n",
    "    \n",
    "def test_output(index, W1, b1, W2, b2):\n",
    "    current_image = base_X_test[:, index, None]\n",
    "    prediction = make_predictions(base_X_test[:, index, None], W1, b1, W2, b2)\n",
    "    label = base_Y_test[index]\n",
    "    return prediction[0]"
   ]
  },
  {
   "cell_type": "code",
   "execution_count": 134,
   "id": "0629c499",
   "metadata": {
    "scrolled": true
   },
   "outputs": [],
   "source": [
    "final = []\n",
    "\n",
    "f = open(r\"C:\\Users\\user\\Desktop\\master\\NN\\homework\\mnist_testData\\711183115.txt\",\"x\")\n",
    "\n",
    "for j in range(lenlen):\n",
    "    #test_prediction(j, W1, b1, W2, b2)\n",
    "    final.append(test_output(j, W1, b1, W2, b2))\n",
    "    print(base_Y_test[j],end=\" \",file=f)\n",
    "    print(final[j],file=f)\n",
    "    \n",
    "\n",
    "#f = open(r\"C:\\Users\\user\\Desktop\\master\\NN\\homework\\mnist_testData\\711183115.txt\",\"x\")\n",
    "#f.write(final)\n",
    "f.close()"
   ]
  },
  {
   "cell_type": "code",
   "execution_count": 122,
   "id": "5e459587",
   "metadata": {},
   "outputs": [
    {
     "name": "stdout",
     "output_type": "stream",
     "text": [
      "Prediction:  [2]\n",
      "Label:  2\n"
     ]
    },
    {
     "data": {
      "image/png": "[encoded data removed]",
      "text/plain": [
       "<Figure size 640x480 with 1 Axes>"
      ]
     },
     "metadata": {},
     "output_type": "display_data"
    }
   ],
   "source": [
    "test_prediction(0,W1,b1,W2,b2)"
   ]
  },
  {
   "cell_type": "code",
   "execution_count": 133,
   "id": "03762cd9",
   "metadata": {},
   "outputs": [],
   "source": [
    "\"\"\"\n",
    "test_prediction(0, W1, b1, W2, b2)\n",
    "test_prediction(1, W1, b1, W2, b2)\n",
    "test_prediction(2, W1, b1, W2, b2)\n",
    "test_prediction(3, W1, b1, W2, b2)\n",
    "\"\"\"\n",
    "f.close()"
   ]
  },
  {
   "cell_type": "code",
   "execution_count": 21,
   "id": "da1fda76",
   "metadata": {},
   "outputs": [
    {
     "name": "stdout",
     "output_type": "stream",
     "text": [
      "[2 2 2 ... 7 7 7] [2 2 2 ... 7 7 7]\n"
     ]
    },
    {
     "data": {
      "text/plain": [
       "0.95395"
      ]
     },
     "execution_count": 21,
     "metadata": {},
     "output_type": "execute_result"
    }
   ],
   "source": [
    "dev_predictions = make_predictions(base_X_train, W1, b1, W2, b2)\n",
    "final = get_accuracy(dev_predictions, base_Y_train)\n",
    "final"
   ]
  },
  {
   "cell_type": "code",
   "execution_count": 25,
   "id": "c1f590bf",
   "metadata": {},
   "outputs": [
    {
     "name": "stdout",
     "output_type": "stream",
     "text": [
      "accuracy: 0.95395\n"
     ]
    },
    {
     "data": {
      "image/png": "[encoded data removed]",
      "text/plain": [
       "<Figure size 640x480 with 1 Axes>"
      ]
     },
     "metadata": {},
     "output_type": "display_data"
    }
   ],
   "source": [
    "x = np.array(it)\n",
    "y = np.array(acc)\n",
    "print(\"accuracy:\", final)\n",
    "plt.plot(x,y)\n",
    "plt.show()"
   ]
  },
  {
   "cell_type": "code",
   "execution_count": null,
   "id": "af0a997a",
   "metadata": {},
   "outputs": [],
   "source": []
  }
 ],
 "metadata": {
  "kernelspec": {
   "display_name": "Python 3 (ipykernel)",
   "language": "python",
   "name": "python3"
  },
  "language_info": {
   "codemirror_mode": {
    "name": "ipython",
    "version": 3
   },
   "file_extension": ".py",
   "mimetype": "text/x-python",
   "name": "python",
   "nbconvert_exporter": "python",
   "pygments_lexer": "ipython3",
   "version": "3.7.15"
  }
 },
 "nbformat": 4,
 "nbformat_minor": 5
}
